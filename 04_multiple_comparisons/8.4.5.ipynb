{
 "cells": [
  {
   "cell_type": "code",
   "execution_count": 22,
   "metadata": {
    "collapsed": true
   },
   "outputs": [],
   "source": [
    "import pandas as pd\n",
    "import numpy as np\n",
    "import scipy.stats as sps\n",
    "import matplotlib.pyplot as plt\n",
    "from statsmodels.sandbox.stats.multicomp import multipletests\n",
    "\n",
    "%matplotlib inline"
   ]
  },
  {
   "cell_type": "code",
   "execution_count": 5,
   "metadata": {
    "collapsed": true
   },
   "outputs": [],
   "source": [
    "data = []"
   ]
  },
  {
   "cell_type": "code",
   "execution_count": 6,
   "metadata": {
    "collapsed": false
   },
   "outputs": [],
   "source": [
    "wine = pd.read_csv(\"wine.data\", header=None)\n",
    "for c in [1,3,4,8,9]:\n",
    "    data.append(wine[c].values)"
   ]
  },
  {
   "cell_type": "code",
   "execution_count": 15,
   "metadata": {
    "collapsed": false
   },
   "outputs": [],
   "source": [
    "vowel = pd.read_csv(\"vowel-context.data\", sep=\" \", header=None)\n",
    "data.append(vowel[7].values)"
   ]
  },
  {
   "cell_type": "code",
   "execution_count": 21,
   "metadata": {
    "collapsed": false
   },
   "outputs": [],
   "source": [
    "slump = pd.read_csv(\"slump_test.data\")\n",
    "data.append(slump.iloc[:,-1].values)"
   ]
  },
  {
   "cell_type": "markdown",
   "metadata": {},
   "source": [
    "Проведём проверки нормальности для данных выборок."
   ]
  },
  {
   "cell_type": "code",
   "execution_count": 24,
   "metadata": {
    "collapsed": true
   },
   "outputs": [],
   "source": [
    "p_values = []\n",
    "for X in data:\n",
    "    p_values.append(sps.kstest(X, cdf='norm')[1])\n",
    "    p_values.append(sps.normaltest(X)[1])\n",
    "    p_values.append(sps.shapiro(X)[1])"
   ]
  },
  {
   "cell_type": "markdown",
   "metadata": {},
   "source": [
    "Для поправки на множественную проверку гипотез воспользуемся методом Бенджамини-Иекутиели, т.к. он контролирует FDR и является мощнейшей процедурой при отсутствии информации о зависимости между статистиками (в нашем случае некоторые статистики считаются по одной и той же выборке, поэтому они могут быть зависимы).\n",
    "\n",
    "Нисходящей процедурой Бенджамини-Хохберга воспользоваться нельзя, т.к. она требует независимости статистик либо выполнения условия FDRS, которое я не понял."
   ]
  },
  {
   "cell_type": "code",
   "execution_count": 26,
   "metadata": {
    "collapsed": false
   },
   "outputs": [
    {
     "name": "stdout",
     "output_type": "stream",
     "text": [
      "(array([ True,  True, False,  True, False, False,  True, False, False,\n",
      "        True,  True,  True,  True, False, False,  True, False, False,\n",
      "        True, False, False], dtype=bool), array([ 0.        ,  0.00290587,  0.11807768,  0.        ,  0.19743032,\n",
      "        0.19743032,  0.        ,  0.89329463,  1.        ,  0.        ,\n",
      "        0.02039897,  0.00100979,  0.        ,  0.05568023,  0.09220356,\n",
      "        0.        ,  0.62660259,  0.33904126,  0.        ,  1.        ,  1.        ]), 0.0024395572596688231, 0.002380952380952381)\n"
     ]
    }
   ],
   "source": [
    "multipletests_results = multipletests(p_values, method='fdr_by')\n",
    "print multipletests_results"
   ]
  },
  {
   "cell_type": "code",
   "execution_count": 27,
   "metadata": {
    "collapsed": false
   },
   "outputs": [
    {
     "data": {
      "text/plain": [
       "array([[ True,  True, False],\n",
       "       [ True, False, False],\n",
       "       [ True, False, False],\n",
       "       [ True,  True,  True],\n",
       "       [ True, False, False],\n",
       "       [ True, False, False],\n",
       "       [ True, False, False]], dtype=bool)"
      ]
     },
     "execution_count": 27,
     "metadata": {},
     "output_type": "execute_result"
    }
   ],
   "source": [
    "multipletests_results[0].reshape((-1,3))"
   ]
  },
  {
   "cell_type": "markdown",
   "metadata": {},
   "source": [
    "Т.о. единогласно было откланена лишь одна гипотеза: о нормальности 3ей (с нуля) выборки. Для остальных выборок по KS тесту гипотезы откланяются, а по Шапиро принимаются, что говорит о необходимости дальнейшего исследования этих выборок."
   ]
  }
 ],
 "metadata": {
  "kernelspec": {
   "display_name": "Python 2",
   "language": "python",
   "name": "python2"
  },
  "language_info": {
   "codemirror_mode": {
    "name": "ipython",
    "version": 2
   },
   "file_extension": ".py",
   "mimetype": "text/x-python",
   "name": "python",
   "nbconvert_exporter": "python",
   "pygments_lexer": "ipython2",
   "version": "2.7.12"
  }
 },
 "nbformat": 4,
 "nbformat_minor": 2
}
