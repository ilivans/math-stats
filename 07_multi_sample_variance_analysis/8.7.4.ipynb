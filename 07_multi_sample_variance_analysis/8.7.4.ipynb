{
 "cells": [
  {
   "cell_type": "code",
   "execution_count": 1,
   "metadata": {
    "collapsed": true
   },
   "outputs": [],
   "source": [
    "import pandas as pd\n",
    "import numpy as np\n",
    "import scipy.stats as sps\n",
    "from statsmodels.sandbox.stats.multicomp import multipletests\n",
    "import matplotlib.pyplot as plt\n",
    "\n",
    "%matplotlib inline"
   ]
  },
  {
   "cell_type": "code",
   "execution_count": 2,
   "metadata": {},
   "outputs": [
    {
     "data": {
      "text/html": [
       "<div>\n",
       "<table border=\"1\" class=\"dataframe\">\n",
       "  <thead>\n",
       "    <tr style=\"text-align: right;\">\n",
       "      <th></th>\n",
       "      <th>0</th>\n",
       "      <th>1</th>\n",
       "      <th>2</th>\n",
       "      <th>3</th>\n",
       "      <th>4</th>\n",
       "      <th>5</th>\n",
       "      <th>6</th>\n",
       "      <th>7</th>\n",
       "      <th>8</th>\n",
       "      <th>9</th>\n",
       "    </tr>\n",
       "  </thead>\n",
       "  <tbody>\n",
       "    <tr>\n",
       "      <th>0</th>\n",
       "      <td>45.714</td>\n",
       "      <td>33.505</td>\n",
       "      <td>47.047</td>\n",
       "      <td>51.494</td>\n",
       "      <td>52.945</td>\n",
       "      <td>37.201</td>\n",
       "      <td>41.352</td>\n",
       "      <td>45.404</td>\n",
       "      <td>33.025</td>\n",
       "      <td>50.208</td>\n",
       "    </tr>\n",
       "    <tr>\n",
       "      <th>1</th>\n",
       "      <td>45.802</td>\n",
       "      <td>32.408</td>\n",
       "      <td>45.212</td>\n",
       "      <td>50.871</td>\n",
       "      <td>52.927</td>\n",
       "      <td>38.857</td>\n",
       "      <td>41.376</td>\n",
       "      <td>42.262</td>\n",
       "      <td>32.368</td>\n",
       "      <td>47.989</td>\n",
       "    </tr>\n",
       "    <tr>\n",
       "      <th>2</th>\n",
       "      <td>49.027</td>\n",
       "      <td>35.211</td>\n",
       "      <td>46.797</td>\n",
       "      <td>53.292</td>\n",
       "      <td>55.219</td>\n",
       "      <td>38.196</td>\n",
       "      <td>42.549</td>\n",
       "      <td>45.681</td>\n",
       "      <td>34.516</td>\n",
       "      <td>50.207</td>\n",
       "    </tr>\n",
       "    <tr>\n",
       "      <th>3</th>\n",
       "      <td>49.162</td>\n",
       "      <td>34.092</td>\n",
       "      <td>45.465</td>\n",
       "      <td>52.018</td>\n",
       "      <td>52.857</td>\n",
       "      <td>41.648</td>\n",
       "      <td>42.106</td>\n",
       "      <td>44.846</td>\n",
       "      <td>33.277</td>\n",
       "      <td>50.348</td>\n",
       "    </tr>\n",
       "    <tr>\n",
       "      <th>4</th>\n",
       "      <td>46.926</td>\n",
       "      <td>33.365</td>\n",
       "      <td>45.078</td>\n",
       "      <td>51.174</td>\n",
       "      <td>52.256</td>\n",
       "      <td>39.104</td>\n",
       "      <td>42.909</td>\n",
       "      <td>44.595</td>\n",
       "      <td>32.090</td>\n",
       "      <td>49.594</td>\n",
       "    </tr>\n",
       "    <tr>\n",
       "      <th>5</th>\n",
       "      <td>47.420</td>\n",
       "      <td>33.545</td>\n",
       "      <td>45.340</td>\n",
       "      <td>49.763</td>\n",
       "      <td>54.432</td>\n",
       "      <td>39.071</td>\n",
       "      <td>43.153</td>\n",
       "      <td>44.149</td>\n",
       "      <td>32.236</td>\n",
       "      <td>46.395</td>\n",
       "    </tr>\n",
       "    <tr>\n",
       "      <th>6</th>\n",
       "      <td>45.758</td>\n",
       "      <td>36.647</td>\n",
       "      <td>48.341</td>\n",
       "      <td>51.573</td>\n",
       "      <td>53.677</td>\n",
       "      <td>38.658</td>\n",
       "      <td>43.677</td>\n",
       "      <td>45.353</td>\n",
       "      <td>35.703</td>\n",
       "      <td>49.928</td>\n",
       "    </tr>\n",
       "    <tr>\n",
       "      <th>7</th>\n",
       "      <td>45.299</td>\n",
       "      <td>33.424</td>\n",
       "      <td>44.908</td>\n",
       "      <td>50.527</td>\n",
       "      <td>52.922</td>\n",
       "      <td>37.623</td>\n",
       "      <td>40.265</td>\n",
       "      <td>42.210</td>\n",
       "      <td>30.962</td>\n",
       "      <td>49.524</td>\n",
       "    </tr>\n",
       "    <tr>\n",
       "      <th>8</th>\n",
       "      <td>48.380</td>\n",
       "      <td>33.860</td>\n",
       "      <td>47.872</td>\n",
       "      <td>51.485</td>\n",
       "      <td>55.523</td>\n",
       "      <td>40.520</td>\n",
       "      <td>43.341</td>\n",
       "      <td>48.035</td>\n",
       "      <td>35.621</td>\n",
       "      <td>49.661</td>\n",
       "    </tr>\n",
       "    <tr>\n",
       "      <th>9</th>\n",
       "      <td>45.943</td>\n",
       "      <td>33.140</td>\n",
       "      <td>44.475</td>\n",
       "      <td>50.274</td>\n",
       "      <td>52.512</td>\n",
       "      <td>35.902</td>\n",
       "      <td>40.326</td>\n",
       "      <td>43.366</td>\n",
       "      <td>33.569</td>\n",
       "      <td>48.410</td>\n",
       "    </tr>\n",
       "  </tbody>\n",
       "</table>\n",
       "</div>"
      ],
      "text/plain": [
       "        0       1       2       3       4       5       6       7       8  \\\n",
       "0  45.714  33.505  47.047  51.494  52.945  37.201  41.352  45.404  33.025   \n",
       "1  45.802  32.408  45.212  50.871  52.927  38.857  41.376  42.262  32.368   \n",
       "2  49.027  35.211  46.797  53.292  55.219  38.196  42.549  45.681  34.516   \n",
       "3  49.162  34.092  45.465  52.018  52.857  41.648  42.106  44.846  33.277   \n",
       "4  46.926  33.365  45.078  51.174  52.256  39.104  42.909  44.595  32.090   \n",
       "5  47.420  33.545  45.340  49.763  54.432  39.071  43.153  44.149  32.236   \n",
       "6  45.758  36.647  48.341  51.573  53.677  38.658  43.677  45.353  35.703   \n",
       "7  45.299  33.424  44.908  50.527  52.922  37.623  40.265  42.210  30.962   \n",
       "8  48.380  33.860  47.872  51.485  55.523  40.520  43.341  48.035  35.621   \n",
       "9  45.943  33.140  44.475  50.274  52.512  35.902  40.326  43.366  33.569   \n",
       "\n",
       "        9  \n",
       "0  50.208  \n",
       "1  47.989  \n",
       "2  50.207  \n",
       "3  50.348  \n",
       "4  49.594  \n",
       "5  46.395  \n",
       "6  49.928  \n",
       "7  49.524  \n",
       "8  49.661  \n",
       "9  48.410  "
      ]
     },
     "execution_count": 2,
     "metadata": {},
     "output_type": "execute_result"
    }
   ],
   "source": [
    "data = pd.read_csv(\"hw7t4v2.txt\", sep=\" \", header=None)\n",
    "data"
   ]
  },
  {
   "cell_type": "code",
   "execution_count": 7,
   "metadata": {},
   "outputs": [
    {
     "data": {
      "image/png": "[encoded data removed]",
      "text/plain": [
       "<matplotlib.figure.Figure at 0x7f884dcc6cd0>"
      ]
     },
     "metadata": {},
     "output_type": "display_data"
    }
   ],
   "source": [
    "Xs = data.values\n",
    "plt.boxplot(Xs.transpose());"
   ]
  },
  {
   "cell_type": "markdown",
   "metadata": {},
   "source": [
    "По графику, кажется, что выборки далеки от однородных."
   ]
  },
  {
   "cell_type": "code",
   "execution_count": 8,
   "metadata": {
    "collapsed": true
   },
   "outputs": [],
   "source": [
    "n = data.shape[0]\n",
    "k = data.shape[1]"
   ]
  },
  {
   "cell_type": "markdown",
   "metadata": {},
   "source": [
    "Применим критерий Фридмана с поправкой, т.к. n и k малы."
   ]
  },
  {
   "cell_type": "code",
   "execution_count": 15,
   "metadata": {},
   "outputs": [
    {
     "name": "stdout",
     "output_type": "stream",
     "text": [
      "p-value: 3.54364537714e-10\n"
     ]
    }
   ],
   "source": [
    "f_statistic = sps.friedmanchisquare(*Xs)[0]\n",
    "p_value = 1 - sps.f(n - 1, (n - 1) * (k - 1)).cdf((n - 1) * f_statistic / (n * (k - 1) - f_statistic))\n",
    "print \"p-value:\", p_value"
   ]
  },
  {
   "cell_type": "markdown",
   "metadata": {},
   "source": [
    "Гипотеза об отсутствии сдвига отклоняется на микроскопическом уровне значимости."
   ]
  }
 ],
 "metadata": {
  "kernelspec": {
   "display_name": "Python 2",
   "language": "python",
   "name": "python2"
  },
  "language_info": {
   "codemirror_mode": {
    "name": "ipython",
    "version": 2
   },
   "file_extension": ".py",
   "mimetype": "text/x-python",
   "name": "python",
   "nbconvert_exporter": "python",
   "pygments_lexer": "ipython2",
   "version": "2.7.12"
  }
 },
 "nbformat": 4,
 "nbformat_minor": 2
}
