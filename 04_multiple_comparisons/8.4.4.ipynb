{
 "cells": [
  {
   "cell_type": "code",
   "execution_count": 7,
   "metadata": {
    "collapsed": true
   },
   "outputs": [],
   "source": [
    "import pandas as pd\n",
    "import numpy as np\n",
    "import scipy.stats as sps\n",
    "import matplotlib.pyplot as plt\n",
    "from statsmodels.sandbox.stats.multicomp import multipletests\n",
    "\n",
    "%matplotlib inline"
   ]
  },
  {
   "cell_type": "code",
   "execution_count": 28,
   "metadata": {
    "collapsed": false
   },
   "outputs": [],
   "source": [
    "data = pd.read_csv(\"wine.data\", header=None)\n",
    "data = data[1].values"
   ]
  },
  {
   "cell_type": "code",
   "execution_count": 29,
   "metadata": {
    "collapsed": false
   },
   "outputs": [
    {
     "data": {
      "image/png": "[encoded data removed]",
      "text/plain": [
       "<matplotlib.figure.Figure at 0x7ff277f28190>"
      ]
     },
     "metadata": {},
     "output_type": "display_data"
    }
   ],
   "source": [
    "plt.hist(data);"
   ]
  },
  {
   "cell_type": "markdown",
   "metadata": {},
   "source": [
    "Критерий инверсий проверки случайности выборки."
   ]
  },
  {
   "cell_type": "code",
   "execution_count": 30,
   "metadata": {
    "collapsed": true
   },
   "outputs": [],
   "source": [
    "def inversions_criterion(sample):\n",
    "    x = np.array(sample)\n",
    "    n = len(x)\n",
    "    \n",
    "    upper_triangular = np.arange(n).reshape((-1, 1)) < np.arange(n).reshape((1, -1))\n",
    "    x_upper_triangular = x.reshape((-1, 1)) > x.reshape((1, -1))\n",
    "    I = (x_upper_triangular * upper_triangular).sum()\n",
    "    \n",
    "    mean = n * (n - 1) / 4\n",
    "    var = (2 * n ** 3 + 3 * n ** 2 - 5 * n) / 72\n",
    "    T = (I - mean) / np.sqrt(var)\n",
    "    return T, 2 * sps.norm.sf(np.abs(T))"
   ]
  },
  {
   "cell_type": "code",
   "execution_count": 38,
   "metadata": {
    "collapsed": false
   },
   "outputs": [
    {
     "name": "stdout",
     "output_type": "stream",
     "text": [
      "(4.4558993866177437, 8.354220863976737e-06)\n"
     ]
    }
   ],
   "source": [
    "p_values = []\n",
    "inversions_results = inversions_criterion(data)\n",
    "print inversions_results\n",
    "p_values.append(inversions_results[1])"
   ]
  },
  {
   "cell_type": "markdown",
   "metadata": {},
   "source": [
    "Критерии нормальности."
   ]
  },
  {
   "cell_type": "code",
   "execution_count": 39,
   "metadata": {
    "collapsed": false
   },
   "outputs": [
    {
     "name": "stdout",
     "output_type": "stream",
     "text": [
      "AndersonResult(statistic=1.033535193740903, critical_values=array([ 0.564,  0.642,  0.77 ,  0.899,  1.069]), significance_level=array([ 15. ,  10. ,   5. ,   2.5,   1. ]))\n"
     ]
    }
   ],
   "source": [
    "anderson_results = sps.anderson(data)\n",
    "print(anderson_results)\n",
    "p_values.append(0.01)  # Статистика близка критическому значению для уровня значимости 0.01"
   ]
  },
  {
   "cell_type": "code",
   "execution_count": 40,
   "metadata": {
    "collapsed": false
   },
   "outputs": [
    {
     "name": "stdout",
     "output_type": "stream",
     "text": [
      "KstestResult(statistic=1.0, pvalue=0.0)\n"
     ]
    }
   ],
   "source": [
    "ks_results = sps.kstest(data, cdf='norm')\n",
    "print ks_results\n",
    "p_values.append(ks_results[1])"
   ]
  },
  {
   "cell_type": "code",
   "execution_count": 42,
   "metadata": {
    "collapsed": false
   },
   "outputs": [
    {
     "name": "stdout",
     "output_type": "stream",
     "text": [
      "NormaltestResult(statistic=15.963552699056713, pvalue=0.00034163202531285264)\n"
     ]
    }
   ],
   "source": [
    "dagostion_results = sps.normaltest(data)\n",
    "print dagostion_results\n",
    "p_values.append(dagostion_results[1])"
   ]
  },
  {
   "cell_type": "code",
   "execution_count": 44,
   "metadata": {
    "collapsed": false
   },
   "outputs": [
    {
     "name": "stdout",
     "output_type": "stream",
     "text": [
      "(0.9818047285079956, 0.02005171775817871)\n"
     ]
    }
   ],
   "source": [
    "shapiro_results = sps.shapiro(data)\n",
    "print shapiro_results\n",
    "p_values.append(shapiro_results[1])"
   ]
  },
  {
   "cell_type": "markdown",
   "metadata": {},
   "source": [
    "Нельзя использовать критерий Жарка-Бера, т.к. размер выборки много меньше 2000."
   ]
  },
  {
   "cell_type": "markdown",
   "metadata": {},
   "source": [
    "Проведём поправку на множественную проверку гипотез. Используем метод Холма, т.к. это мощнейшая из процедур, контролирующих FWER, если характер зависимости между статистиками неизвестен (в нашем случае статистики считаются по одной и той же выборке, поэтому они могут быть зависимы)."
   ]
  },
  {
   "cell_type": "code",
   "execution_count": 49,
   "metadata": {
    "collapsed": false
   },
   "outputs": [
    {
     "data": {
      "text/plain": [
       "(array([ True,  True,  True,  True,  True], dtype=bool),\n",
       " array([  3.34168835e-05,   2.00000000e-02,   0.00000000e+00,\n",
       "          1.02489608e-03,   2.00517178e-02]),\n",
       " 0.010206218313011495,\n",
       " 0.01)"
      ]
     },
     "execution_count": 49,
     "metadata": {},
     "output_type": "execute_result"
    }
   ],
   "source": [
    "multipletests(p_values, method='holm')"
   ]
  },
  {
   "cell_type": "markdown",
   "metadata": {},
   "source": [
    "Т.о. обе гипотезы отвергаются различными критериями с контролем FWER на уровне 0.021"
   ]
  }
 ],
 "metadata": {
  "kernelspec": {
   "display_name": "Python 2",
   "language": "python",
   "name": "python2"
  },
  "language_info": {
   "codemirror_mode": {
    "name": "ipython",
    "version": 2
   },
   "file_extension": ".py",
   "mimetype": "text/x-python",
   "name": "python",
   "nbconvert_exporter": "python",
   "pygments_lexer": "ipython2",
   "version": "2.7.12"
  }
 },
 "nbformat": 4,
 "nbformat_minor": 2
}
