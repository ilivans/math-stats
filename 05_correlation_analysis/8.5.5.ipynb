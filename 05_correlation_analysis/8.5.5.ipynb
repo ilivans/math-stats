{
 "cells": [
  {
   "cell_type": "code",
   "execution_count": 1,
   "metadata": {
    "collapsed": true,
    "deletable": true,
    "editable": true
   },
   "outputs": [],
   "source": [
    "import pandas as pd\n",
    "import numpy as np\n",
    "import scipy.stats as sps\n",
    "from statsmodels.sandbox.stats.multicomp import multipletests"
   ]
  },
  {
   "cell_type": "code",
   "execution_count": 2,
   "metadata": {
    "collapsed": false,
    "deletable": true,
    "editable": true
   },
   "outputs": [
    {
     "data": {
      "text/plain": [
       "array(['f', 't'], dtype=object)"
      ]
     },
     "execution_count": 2,
     "metadata": {},
     "output_type": "execute_result"
    }
   ],
   "source": [
    "data = pd.read_csv(\"kr-vs-kp.data\", header=None)\n",
    "data = data.iloc[:,:10]\n",
    "np.unique(data.iloc[:,:10].values)"
   ]
  },
  {
   "cell_type": "markdown",
   "metadata": {},
   "source": [
    "Как видим эл-ты выборки принимают всего 2 значения."
   ]
  },
  {
   "cell_type": "code",
   "execution_count": 3,
   "metadata": {
    "collapsed": false
   },
   "outputs": [
    {
     "data": {
      "text/plain": [
       "(3196,)"
      ]
     },
     "execution_count": 3,
     "metadata": {},
     "output_type": "execute_result"
    }
   ],
   "source": [
    "data = data.applymap(lambda c: 1 if c == 'f' else 0)\n",
    "Xs = [data[i] for i in range(10)]\n",
    "Xs[0].shape"
   ]
  },
  {
   "cell_type": "markdown",
   "metadata": {
    "deletable": true,
    "editable": true
   },
   "source": [
    "Проверяем попарную независимость выборок при помощи критерия хи-квадрат. Параллельно проверяем условие применимости критерия, а именно $\\frac{n_im_j}{N} \\geq 5$."
   ]
  },
  {
   "cell_type": "code",
   "execution_count": 4,
   "metadata": {
    "collapsed": false,
    "deletable": true,
    "editable": true
   },
   "outputs": [],
   "source": [
    "p_values = []\n",
    "for i in range(10):\n",
    "    for j in range(i + 1, 10):\n",
    "        observed = np.histogram2d(Xs[i], Xs[j], bins=2)[0]\n",
    "        assert observed.sum(axis=0).min() * observed.sum(axis=1).min() / 200 >= 5\n",
    "        p_value = sps.chi2_contingency(observed)[1]\n",
    "        p_values.append(p_value)"
   ]
  },
  {
   "cell_type": "markdown",
   "metadata": {
    "deletable": true,
    "editable": true
   },
   "source": [
    "Проверим совместную независимость выборок при помощи коэффициент конкордации Кенделла:"
   ]
  },
  {
   "cell_type": "code",
   "execution_count": 5,
   "metadata": {
    "collapsed": false,
    "deletable": true,
    "editable": true
   },
   "outputs": [
    {
     "name": "stdout",
     "output_type": "stream",
     "text": [
      "0.0\n"
     ]
    }
   ],
   "source": [
    "R = np.array(map(np.argsort, Xs)).transpose()\n",
    "n, k = R.shape\n",
    "W = 12. / k**2 / (n**3 - n) * np.sum((R.sum(axis=1) - k*(n+1)/2.)**2)\n",
    "p_value = sps.chi2.cdf(k * (n - 1) * W, n - 1) - 1.\n",
    "p_values.append(p_value)\n",
    "print p_value"
   ]
  },
  {
   "cell_type": "markdown",
   "metadata": {},
   "source": [
    "Проведём поправку на множественную проверку гипотез. Используем метод Холма, т.к. это мощнейшая из процедур, контролирующих FWER, если характер зависимости между статистиками неизвестен (в нашем случае статистики считаются по одной и той же выборке, поэтому они могут быть зависимы)."
   ]
  },
  {
   "cell_type": "code",
   "execution_count": 6,
   "metadata": {
    "collapsed": false
   },
   "outputs": [
    {
     "name": "stdout",
     "output_type": "stream",
     "text": [
      "(array([False,  True,  True, False, False,  True,  True,  True, False,\n",
      "       False, False,  True, False,  True,  True,  True,  True,  True,\n",
      "       False, False,  True,  True, False,  True,  True,  True, False,\n",
      "        True, False, False, False,  True,  True,  True, False,  True,\n",
      "       False, False,  True,  True,  True,  True,  True,  True, False,  True], dtype=bool), array([  1.00000000e+000,   9.06142936e-020,   2.22813828e-002,\n",
      "         5.49365379e-001,   8.26636184e-001,   1.06257283e-009,\n",
      "         1.54993788e-010,   2.00837950e-002,   1.31859186e-001,\n",
      "         1.00000000e+000,   2.05489040e-001,   3.84514795e-014,\n",
      "         1.91572093e-001,   2.65417022e-030,   1.52100675e-014,\n",
      "         2.54156122e-004,   4.67516501e-002,   2.22813828e-002,\n",
      "         1.00000000e+000,   2.10903593e-001,   6.95982999e-015,\n",
      "         1.22144980e-002,   1.00000000e+000,   5.20923524e-004,\n",
      "         2.43845776e-012,   7.79502124e-026,   7.88440727e-001,\n",
      "         2.21420252e-004,   1.00000000e+000,   1.00000000e+000,\n",
      "         1.00000000e+000,   1.48416921e-098,   8.38926348e-046,\n",
      "         1.14114826e-031,   1.00000000e+000,   5.20923524e-004,\n",
      "         1.00000000e+000,   1.00000000e+000,   2.47612967e-003,\n",
      "         1.34204954e-220,   2.77655178e-089,   9.22046579e-006,\n",
      "         0.00000000e+000,   2.71588886e-046,   1.00000000e+000,\n",
      "         0.00000000e+000]))\n"
     ]
    }
   ],
   "source": [
    "results = multipletests(p_values, method='holm')\n",
    "print results[:2]"
   ]
  },
  {
   "cell_type": "markdown",
   "metadata": {},
   "source": [
    "Итак, контроллируя FWER на уровне 0.05, процедура отвергла многие гипотезы о попарной независимости, а также гипотезу о совместной независимости."
   ]
  }
 ],
 "metadata": {
  "kernelspec": {
   "display_name": "Python 2",
   "language": "python",
   "name": "python2"
  },
  "language_info": {
   "codemirror_mode": {
    "name": "ipython",
    "version": 2
   },
   "file_extension": ".py",
   "mimetype": "text/x-python",
   "name": "python",
   "nbconvert_exporter": "python",
   "pygments_lexer": "ipython2",
   "version": "2.7.12"
  }
 },
 "nbformat": 4,
 "nbformat_minor": 2
}
